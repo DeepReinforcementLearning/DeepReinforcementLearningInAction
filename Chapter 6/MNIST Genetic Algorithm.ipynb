{
 "cells": [
  {
   "cell_type": "code",
   "execution_count": 1,
   "metadata": {},
   "outputs": [],
   "source": [
    "import os\n",
    "import torch\n",
    "import torchvision.datasets as dset\n",
    "from torch.distributions import Bernoulli\n",
    "import torchvision.transforms as transforms\n",
    "import numpy as np\n",
    "import random\n",
    "from matplotlib import pyplot as plt\n",
    "from scipy.stats import halfnorm"
   ]
  },
  {
   "cell_type": "markdown",
   "metadata": {},
   "source": [
    "# Deep Reinforcement Learning _in Action_\n",
    "## MNIST Genetic Algorithm"
   ]
  },
  {
   "cell_type": "markdown",
   "metadata": {},
   "source": [
    "Setup a directory to store the MNIST dataset/"
   ]
  },
  {
   "cell_type": "code",
   "execution_count": 2,
   "metadata": {},
   "outputs": [],
   "source": [
    "root = './data'\n",
    "if not os.path.exists(root):\n",
    "    os.mkdir(root)"
   ]
  },
  {
   "cell_type": "markdown",
   "metadata": {},
   "source": [
    "Setup a transformer to normalize the data."
   ]
  },
  {
   "cell_type": "code",
   "execution_count": 3,
   "metadata": {},
   "outputs": [],
   "source": [
    "trans = transforms.Compose([transforms.ToTensor(), transforms.Normalize((0.5,), (1.0,))])"
   ]
  },
  {
   "cell_type": "code",
   "execution_count": 4,
   "metadata": {},
   "outputs": [
    {
     "name": "stdout",
     "output_type": "stream",
     "text": [
      "Downloading http://yann.lecun.com/exdb/mnist/train-images-idx3-ubyte.gz\n",
      "Downloading http://yann.lecun.com/exdb/mnist/train-images-idx3-ubyte.gz to ./data/MNIST/raw/train-images-idx3-ubyte.gz\n"
     ]
    },
    {
     "name": "stderr",
     "output_type": "stream",
     "text": [
      "100%|████████████████████████████| 9912422/9912422 [00:08<00:00, 1196163.77it/s]\n"
     ]
    },
    {
     "name": "stdout",
     "output_type": "stream",
     "text": [
      "Extracting ./data/MNIST/raw/train-images-idx3-ubyte.gz to ./data/MNIST/raw\n",
      "\n",
      "Downloading http://yann.lecun.com/exdb/mnist/train-labels-idx1-ubyte.gz\n",
      "Downloading http://yann.lecun.com/exdb/mnist/train-labels-idx1-ubyte.gz to ./data/MNIST/raw/train-labels-idx1-ubyte.gz\n"
     ]
    },
    {
     "name": "stderr",
     "output_type": "stream",
     "text": [
      "100%|███████████████████████████████| 28881/28881 [00:00<00:00, 22109088.12it/s]\n"
     ]
    },
    {
     "name": "stdout",
     "output_type": "stream",
     "text": [
      "Extracting ./data/MNIST/raw/train-labels-idx1-ubyte.gz to ./data/MNIST/raw\n",
      "\n",
      "Downloading http://yann.lecun.com/exdb/mnist/t10k-images-idx3-ubyte.gz\n",
      "Downloading http://yann.lecun.com/exdb/mnist/t10k-images-idx3-ubyte.gz to ./data/MNIST/raw/t10k-images-idx3-ubyte.gz\n"
     ]
    },
    {
     "name": "stderr",
     "output_type": "stream",
     "text": [
      "100%|████████████████████████████| 1648877/1648877 [00:01<00:00, 1292398.41it/s]\n"
     ]
    },
    {
     "name": "stdout",
     "output_type": "stream",
     "text": [
      "Extracting ./data/MNIST/raw/t10k-images-idx3-ubyte.gz to ./data/MNIST/raw\n",
      "\n",
      "Downloading http://yann.lecun.com/exdb/mnist/t10k-labels-idx1-ubyte.gz\n",
      "Downloading http://yann.lecun.com/exdb/mnist/t10k-labels-idx1-ubyte.gz to ./data/MNIST/raw/t10k-labels-idx1-ubyte.gz\n"
     ]
    },
    {
     "name": "stderr",
     "output_type": "stream",
     "text": [
      "100%|██████████████████████████████████| 4542/4542 [00:00<00:00, 8038197.79it/s]"
     ]
    },
    {
     "name": "stdout",
     "output_type": "stream",
     "text": [
      "Extracting ./data/MNIST/raw/t10k-labels-idx1-ubyte.gz to ./data/MNIST/raw\n",
      "\n"
     ]
    },
    {
     "name": "stderr",
     "output_type": "stream",
     "text": [
      "\n"
     ]
    }
   ],
   "source": [
    "train_set = dset.MNIST(root=root, train=True, transform=trans, download=True)\n",
    "test_set = dset.MNIST(root=root, train=False, transform=trans, download=True)"
   ]
  },
  {
   "cell_type": "code",
   "execution_count": 5,
   "metadata": {},
   "outputs": [],
   "source": [
    "batch_size = 100\n",
    "\n",
    "train_loader = torch.utils.data.DataLoader(\n",
    "                 dataset=train_set,\n",
    "                 batch_size=batch_size,\n",
    "                 shuffle=True)\n",
    "test_loader = torch.utils.data.DataLoader(\n",
    "                dataset=test_set,\n",
    "                batch_size=batch_size,\n",
    "                shuffle=False)"
   ]
  },
  {
   "cell_type": "markdown",
   "metadata": {},
   "source": [
    "We define a simple linear classifier (or you can think of it as a single layer neural network). It simply multiplies a weight/parameter matrix by the input vector and applies a softmax."
   ]
  },
  {
   "cell_type": "code",
   "execution_count": 6,
   "metadata": {},
   "outputs": [],
   "source": [
    "x = next(iter(train_loader))[0]"
   ]
  },
  {
   "cell_type": "code",
   "execution_count": 7,
   "metadata": {},
   "outputs": [],
   "source": [
    "x = x.reshape(100,784)"
   ]
  },
  {
   "cell_type": "code",
   "execution_count": 8,
   "metadata": {},
   "outputs": [],
   "source": [
    "class Individual:\n",
    "    def __init__(self,param, fitness=0):\n",
    "        self.param = param\n",
    "        self.fitness = fitness"
   ]
  },
  {
   "cell_type": "code",
   "execution_count": 9,
   "metadata": {},
   "outputs": [],
   "source": [
    "def model(x,W):\n",
    "    return torch.nn.Softmax()(x @ W)"
   ]
  },
  {
   "cell_type": "code",
   "execution_count": 10,
   "metadata": {},
   "outputs": [
    {
     "name": "stderr",
     "output_type": "stream",
     "text": [
      "/home/don/git/DeepReinforcementLearningInAction/venv/lib/python3.10/site-packages/torch/nn/modules/module.py:1511: UserWarning: Implicit dimension choice for softmax has been deprecated. Change the call to include dim=X as an argument.\n",
      "  return self._call_impl(*args, **kwargs)\n"
     ]
    },
    {
     "data": {
      "text/plain": [
       "tensor([[2.7988e-02, 9.2476e-01, 2.8312e-02, 5.7766e-03, 3.1261e-04, 8.6586e-05,\n",
       "         7.4683e-07, 1.0717e-04, 3.0326e-05, 1.2625e-02],\n",
       "        [1.1727e-02, 9.1829e-01, 1.5762e-02, 3.3097e-03, 3.2942e-03, 7.6944e-04,\n",
       "         8.7624e-03, 6.2241e-04, 2.9262e-02, 8.2016e-03],\n",
       "        [7.9934e-01, 6.6551e-02, 3.5123e-02, 7.5844e-02, 6.6300e-04, 1.9790e-02,\n",
       "         7.0070e-07, 1.5790e-04, 1.5448e-04, 2.3762e-03],\n",
       "        [8.5457e-02, 9.1158e-01, 3.6383e-04, 1.4504e-03, 2.2931e-05, 6.0192e-04,\n",
       "         1.5989e-05, 2.5796e-04, 1.0023e-04, 1.4733e-04],\n",
       "        [9.3388e-01, 2.3687e-03, 1.1790e-03, 5.7466e-02, 6.1725e-04, 5.3604e-04,\n",
       "         1.6360e-07, 1.5933e-05, 2.7593e-03, 1.1742e-03],\n",
       "        [4.8667e-03, 9.8599e-02, 1.7211e-01, 5.8648e-01, 1.7908e-04, 4.0506e-02,\n",
       "         3.6000e-05, 4.7075e-04, 4.9481e-02, 4.7267e-02],\n",
       "        [2.9993e-01, 1.3598e-01, 8.0386e-03, 5.3354e-01, 2.6618e-03, 1.5952e-04,\n",
       "         9.0557e-04, 1.1860e-03, 4.6532e-03, 1.2945e-02],\n",
       "        [2.4034e-01, 4.8383e-01, 1.1624e-01, 8.2345e-02, 4.7858e-03, 6.6922e-02,\n",
       "         1.1793e-05, 2.4248e-04, 2.4327e-03, 2.8549e-03],\n",
       "        [7.5101e-02, 7.9598e-01, 4.6868e-03, 7.8001e-02, 1.1390e-03, 3.3590e-04,\n",
       "         7.2739e-04, 1.9484e-03, 2.6317e-02, 1.5759e-02],\n",
       "        [3.7047e-01, 3.3841e-02, 9.9279e-04, 9.9054e-02, 4.9452e-02, 4.1406e-01,\n",
       "         7.9806e-03, 5.1487e-03, 5.0587e-03, 1.3944e-02],\n",
       "        [3.7202e-01, 3.4961e-01, 2.9385e-02, 1.0329e-01, 6.6566e-03, 1.2609e-01,\n",
       "         1.3931e-06, 8.6646e-03, 3.4321e-03, 8.4015e-04],\n",
       "        [4.8603e-01, 2.5375e-02, 2.8300e-01, 1.1196e-01, 1.4914e-03, 5.8615e-02,\n",
       "         2.7102e-07, 3.1493e-02, 1.4427e-03, 5.9013e-04],\n",
       "        [9.3542e-01, 2.4221e-03, 6.5208e-04, 3.2151e-02, 1.3700e-03, 7.4728e-05,\n",
       "         2.9960e-05, 1.0431e-03, 2.7715e-04, 2.6557e-02],\n",
       "        [2.0475e-03, 9.7593e-01, 4.8786e-04, 2.1466e-02, 1.5732e-05, 1.9375e-05,\n",
       "         8.0954e-08, 5.8644e-06, 5.0159e-06, 2.4099e-05],\n",
       "        [3.7378e-01, 5.7183e-01, 6.3882e-03, 3.0805e-03, 3.0438e-02, 9.7105e-04,\n",
       "         5.6609e-04, 2.7311e-04, 1.7953e-03, 1.0871e-02],\n",
       "        [1.1995e-02, 9.8133e-01, 1.7418e-04, 2.7897e-04, 5.0370e-03, 1.7871e-04,\n",
       "         1.1592e-04, 5.3222e-05, 1.1610e-04, 7.1687e-04],\n",
       "        [9.6034e-03, 1.1875e-01, 2.2373e-01, 6.4638e-01, 8.7277e-05, 2.2660e-05,\n",
       "         2.2855e-06, 1.2523e-05, 1.4015e-03, 1.9031e-05],\n",
       "        [4.9973e-01, 1.2228e-02, 4.4713e-03, 4.7099e-01, 1.5279e-05, 1.6875e-04,\n",
       "         6.5396e-06, 9.0488e-03, 2.3536e-03, 9.8573e-04],\n",
       "        [8.1872e-03, 9.5637e-01, 8.5150e-03, 8.7448e-05, 2.5842e-02, 1.3225e-04,\n",
       "         6.1234e-05, 3.4310e-04, 1.1949e-04, 3.4631e-04],\n",
       "        [2.0103e-02, 9.4294e-01, 3.1306e-02, 1.3870e-03, 2.9450e-05, 6.5246e-05,\n",
       "         5.5806e-07, 4.6505e-04, 1.9382e-04, 3.5072e-03],\n",
       "        [8.6097e-02, 5.8410e-03, 3.8532e-01, 4.9271e-01, 1.6522e-04, 2.0271e-02,\n",
       "         1.8709e-04, 5.0118e-05, 9.2893e-03, 6.5712e-05],\n",
       "        [5.3268e-01, 4.3336e-01, 1.5621e-02, 6.2046e-03, 9.0200e-03, 1.9586e-03,\n",
       "         7.4844e-07, 5.3389e-04, 1.0674e-04, 5.1340e-04],\n",
       "        [5.9433e-03, 9.8936e-01, 2.3726e-03, 1.7168e-03, 1.3709e-06, 2.6123e-04,\n",
       "         1.5834e-05, 2.2111e-06, 2.2714e-06, 3.1964e-04],\n",
       "        [2.1867e-01, 6.5368e-01, 3.2843e-03, 7.4376e-02, 1.8185e-03, 2.3459e-03,\n",
       "         4.4252e-04, 1.2705e-03, 3.5658e-02, 8.4600e-03],\n",
       "        [1.7324e-01, 5.1678e-01, 1.6366e-01, 5.2131e-02, 3.0429e-04, 8.7195e-02,\n",
       "         6.3313e-07, 4.8192e-04, 4.7221e-04, 5.7349e-03],\n",
       "        [3.7504e-01, 5.4302e-03, 1.6203e-03, 5.8099e-01, 4.9077e-03, 1.4154e-02,\n",
       "         2.8281e-03, 1.0259e-02, 2.5350e-03, 2.2374e-03],\n",
       "        [1.0605e-01, 7.5449e-01, 3.3160e-03, 1.1890e-01, 1.9425e-03, 1.3317e-02,\n",
       "         1.0252e-05, 5.5637e-04, 1.3834e-03, 3.2713e-05],\n",
       "        [1.1738e-02, 9.1099e-01, 4.1634e-02, 2.2926e-02, 9.5613e-05, 9.7395e-03,\n",
       "         5.2456e-06, 5.2877e-04, 5.5144e-04, 1.7907e-03],\n",
       "        [3.0590e-01, 3.2414e-01, 1.5123e-01, 2.0795e-01, 5.3588e-03, 5.3890e-04,\n",
       "         6.3444e-06, 3.5471e-04, 2.9403e-03, 1.5870e-03],\n",
       "        [7.3998e-03, 6.0460e-01, 3.4699e-01, 3.6728e-02, 6.4951e-05, 3.7104e-03,\n",
       "         1.1097e-06, 1.6417e-04, 3.2014e-04, 1.6271e-05],\n",
       "        [3.9374e-01, 5.7836e-01, 6.6583e-03, 1.1588e-02, 4.8586e-04, 1.8419e-03,\n",
       "         4.4088e-07, 6.9062e-05, 1.3612e-03, 5.9007e-03],\n",
       "        [7.5531e-01, 1.7531e-01, 8.7696e-04, 1.4202e-02, 2.0623e-03, 4.1171e-02,\n",
       "         1.1493e-03, 4.1249e-04, 7.3885e-03, 2.1147e-03],\n",
       "        [9.2635e-03, 9.5223e-01, 1.0543e-02, 2.1753e-02, 1.3715e-03, 4.5919e-04,\n",
       "         6.0621e-05, 5.3983e-05, 2.5742e-03, 1.6948e-03],\n",
       "        [1.0460e-01, 7.8333e-01, 4.5598e-02, 7.0820e-04, 5.2773e-03, 1.8351e-02,\n",
       "         2.4484e-05, 2.7105e-03, 2.9514e-02, 9.8886e-03],\n",
       "        [7.0495e-03, 9.7865e-01, 2.0733e-03, 1.9493e-04, 9.4404e-03, 9.2086e-05,\n",
       "         1.8819e-06, 1.4242e-04, 2.8870e-05, 2.3281e-03],\n",
       "        [9.8314e-01, 1.8584e-03, 9.6638e-04, 1.6923e-03, 1.5455e-05, 2.3965e-04,\n",
       "         1.8115e-06, 7.9079e-06, 1.2053e-02, 2.7917e-05],\n",
       "        [2.2095e-01, 6.6557e-01, 6.6399e-02, 2.8580e-02, 2.6655e-03, 8.4691e-03,\n",
       "         1.6092e-05, 8.1822e-04, 5.6342e-03, 8.9749e-04],\n",
       "        [2.1514e-02, 9.7244e-01, 7.2101e-04, 1.2352e-03, 3.8963e-04, 4.9260e-04,\n",
       "         3.5003e-04, 5.4118e-04, 7.9781e-04, 1.5168e-03],\n",
       "        [1.0161e-02, 8.5247e-01, 2.3017e-02, 3.3210e-02, 4.0687e-04, 9.1576e-03,\n",
       "         9.5777e-05, 1.6161e-02, 1.6017e-04, 5.5163e-02],\n",
       "        [7.9407e-01, 1.4356e-01, 2.3195e-02, 3.4865e-02, 1.2331e-04, 2.0640e-03,\n",
       "         3.1798e-07, 1.4677e-03, 5.8093e-04, 6.8949e-05],\n",
       "        [1.3184e-02, 9.5788e-01, 4.6697e-03, 6.7727e-03, 6.0061e-04, 9.4261e-05,\n",
       "         9.8289e-05, 2.7793e-05, 5.5947e-03, 1.1074e-02],\n",
       "        [3.9309e-01, 5.5534e-01, 3.5861e-02, 7.0278e-03, 8.8388e-05, 7.4785e-03,\n",
       "         4.7545e-07, 3.1300e-04, 9.9259e-05, 6.9554e-04],\n",
       "        [8.6388e-01, 3.4587e-02, 5.1888e-04, 8.7794e-02, 4.7435e-03, 2.2924e-04,\n",
       "         3.5134e-04, 1.1717e-03, 3.0010e-03, 3.7265e-03],\n",
       "        [9.5885e-01, 1.4483e-02, 1.4430e-02, 2.5186e-03, 1.0640e-03, 1.1394e-03,\n",
       "         7.5173e-05, 7.4881e-04, 6.6155e-03, 7.4889e-05],\n",
       "        [4.0321e-01, 2.7564e-01, 1.5955e-02, 3.7922e-03, 1.4261e-02, 2.4205e-04,\n",
       "         2.9686e-05, 1.6594e-03, 2.1711e-04, 2.8500e-01],\n",
       "        [1.4032e-01, 5.0354e-02, 5.5555e-02, 1.9979e-01, 2.0862e-03, 2.3895e-03,\n",
       "         9.9947e-05, 2.1251e-03, 3.9977e-04, 5.4689e-01],\n",
       "        [3.3291e-01, 5.7686e-01, 2.2905e-02, 6.4046e-03, 1.7323e-02, 1.1186e-02,\n",
       "         4.4525e-04, 1.3642e-03, 2.3058e-02, 7.5442e-03],\n",
       "        [8.5510e-02, 1.3548e-01, 7.0160e-02, 6.7719e-01, 6.5128e-03, 3.0660e-05,\n",
       "         1.5008e-04, 3.2489e-04, 2.1409e-02, 3.2315e-03],\n",
       "        [7.6177e-02, 8.9778e-01, 5.9292e-03, 1.7652e-02, 2.6974e-05, 2.1610e-03,\n",
       "         1.2985e-06, 1.0459e-04, 4.9049e-05, 1.1422e-04],\n",
       "        [1.2016e-01, 2.2813e-03, 8.4806e-02, 5.8295e-01, 1.7562e-05, 9.7919e-05,\n",
       "         2.5544e-06, 3.6272e-04, 2.0928e-01, 5.0265e-05],\n",
       "        [7.3195e-02, 9.1937e-01, 3.2669e-03, 1.1572e-03, 2.7806e-04, 7.1638e-05,\n",
       "         4.6884e-07, 5.0210e-05, 3.0845e-04, 2.2999e-03],\n",
       "        [1.0837e-01, 5.3273e-01, 5.7104e-03, 4.7121e-02, 1.1419e-03, 8.4297e-04,\n",
       "         1.0061e-03, 7.5065e-03, 1.4168e-03, 2.9415e-01],\n",
       "        [6.9411e-02, 4.8520e-01, 4.2764e-01, 1.1852e-02, 2.3112e-04, 8.1047e-04,\n",
       "         1.4129e-06, 1.2975e-03, 6.0124e-05, 3.5015e-03],\n",
       "        [9.7106e-01, 1.7418e-02, 1.3138e-04, 9.7416e-03, 7.9039e-04, 2.5621e-05,\n",
       "         3.9321e-06, 3.6996e-05, 4.1360e-04, 3.7365e-04],\n",
       "        [8.3596e-01, 1.2149e-01, 4.3467e-03, 1.2176e-02, 8.4751e-03, 7.2550e-04,\n",
       "         7.2769e-04, 1.2780e-04, 9.0044e-03, 6.9738e-03],\n",
       "        [9.1970e-01, 5.1068e-02, 5.3421e-04, 2.7660e-03, 1.4056e-03, 6.8603e-04,\n",
       "         1.6135e-04, 7.5665e-05, 2.0696e-02, 2.9118e-03],\n",
       "        [8.2926e-01, 2.6309e-02, 4.8176e-03, 2.7271e-02, 1.3177e-03, 7.5973e-02,\n",
       "         1.3266e-05, 7.2175e-04, 3.2527e-02, 1.7936e-03],\n",
       "        [4.6345e-01, 4.6971e-01, 7.3113e-03, 7.3401e-03, 1.4622e-03, 1.0859e-03,\n",
       "         7.0994e-05, 7.7204e-03, 1.4915e-03, 4.0357e-02],\n",
       "        [8.0189e-02, 2.1937e-01, 8.7469e-02, 2.8501e-01, 4.8147e-03, 2.5399e-04,\n",
       "         1.3397e-03, 7.6974e-04, 1.1075e-01, 2.1002e-01],\n",
       "        [7.2939e-01, 6.9914e-03, 4.7141e-03, 1.9849e-01, 1.5684e-02, 6.5705e-03,\n",
       "         8.3176e-05, 5.3919e-03, 3.1843e-02, 8.4135e-04],\n",
       "        [5.7113e-01, 4.0609e-01, 2.9997e-04, 2.1372e-02, 9.9053e-05, 1.6626e-04,\n",
       "         7.7545e-06, 2.3584e-04, 2.8327e-04, 3.1340e-04],\n",
       "        [1.5679e-01, 8.3852e-01, 9.8214e-05, 3.0148e-03, 4.6465e-05, 1.2274e-05,\n",
       "         1.1272e-05, 9.1220e-06, 6.8115e-04, 8.1950e-04],\n",
       "        [2.2512e-01, 2.1756e-01, 3.9590e-01, 1.2758e-01, 2.2819e-02, 1.8866e-04,\n",
       "         2.6917e-05, 1.8067e-04, 3.9653e-03, 6.6579e-03],\n",
       "        [9.0080e-01, 8.9011e-02, 3.4923e-04, 7.7714e-03, 8.6201e-05, 1.5651e-04,\n",
       "         2.3872e-06, 7.0969e-04, 7.5135e-04, 3.5820e-04],\n",
       "        [9.3834e-01, 3.9562e-03, 6.8730e-04, 4.5449e-02, 1.3724e-03, 3.2233e-04,\n",
       "         4.6818e-05, 1.1562e-04, 8.8452e-03, 8.6090e-04],\n",
       "        [2.5024e-02, 1.7527e-01, 9.9358e-03, 7.8223e-01, 1.6651e-05, 4.0892e-03,\n",
       "         1.8355e-06, 9.1534e-05, 2.7056e-03, 6.3399e-04],\n",
       "        [9.6987e-02, 7.8229e-02, 8.3448e-02, 1.8838e-02, 6.7763e-01, 3.6586e-04,\n",
       "         1.5585e-03, 2.6448e-04, 1.1736e-03, 4.1504e-02],\n",
       "        [9.0812e-01, 1.4756e-02, 1.9525e-02, 3.2163e-02, 3.2422e-04, 1.3074e-02,\n",
       "         3.8975e-06, 4.6088e-03, 7.3792e-03, 4.3116e-05],\n",
       "        [5.3897e-01, 2.5086e-01, 1.3517e-02, 1.9301e-01, 1.8546e-05, 2.2942e-03,\n",
       "         2.5474e-07, 3.5570e-05, 4.5148e-05, 1.2589e-03],\n",
       "        [1.5765e-03, 9.9736e-01, 3.0302e-04, 3.3522e-04, 3.6091e-05, 5.2803e-05,\n",
       "         5.0484e-06, 4.8817e-06, 6.2249e-05, 2.6625e-04],\n",
       "        [7.2508e-03, 9.7563e-01, 1.6366e-03, 1.0521e-02, 7.0999e-05, 1.9370e-05,\n",
       "         8.7313e-06, 4.9068e-05, 1.9358e-04, 4.6233e-03],\n",
       "        [8.9402e-01, 2.2917e-02, 3.1558e-03, 7.4573e-02, 5.5549e-05, 5.2072e-04,\n",
       "         3.8440e-06, 7.6550e-05, 1.6247e-03, 3.0539e-03],\n",
       "        [8.6049e-01, 1.0594e-01, 4.3422e-04, 2.7249e-02, 2.1282e-03, 3.2550e-03,\n",
       "         4.2999e-06, 3.2828e-06, 4.2082e-05, 4.5254e-04],\n",
       "        [3.0535e-02, 9.3298e-01, 1.7627e-03, 3.1167e-02, 4.6050e-05, 1.6266e-04,\n",
       "         5.1992e-05, 1.1424e-04, 2.3063e-03, 8.7489e-04],\n",
       "        [9.8941e-01, 3.2990e-03, 2.0609e-03, 3.1292e-04, 4.7586e-05, 1.4192e-04,\n",
       "         2.4126e-08, 1.9984e-04, 4.5177e-03, 7.1552e-06],\n",
       "        [1.6406e-02, 6.7993e-01, 4.7180e-03, 2.7206e-01, 2.9321e-03, 2.8106e-05,\n",
       "         5.2356e-06, 6.4744e-05, 1.5481e-02, 8.3706e-03],\n",
       "        [8.2937e-01, 1.0095e-01, 8.9817e-03, 4.1795e-02, 2.0303e-03, 1.0243e-02,\n",
       "         7.1102e-05, 1.7639e-03, 3.9207e-03, 8.7040e-04],\n",
       "        [1.8089e-01, 5.8664e-01, 3.3891e-02, 1.7688e-01, 2.3276e-03, 4.1789e-03,\n",
       "         4.4113e-04, 2.1526e-03, 1.1401e-02, 1.1936e-03],\n",
       "        [8.5302e-01, 9.2270e-02, 6.0709e-03, 3.4102e-02, 1.3667e-04, 7.0179e-04,\n",
       "         7.5298e-05, 2.9533e-04, 9.3186e-03, 4.0082e-03],\n",
       "        [2.7100e-01, 1.9653e-02, 4.3131e-02, 6.3118e-01, 6.3474e-04, 5.7471e-03,\n",
       "         1.8805e-04, 8.8908e-04, 2.5241e-02, 2.3407e-03],\n",
       "        [9.0043e-01, 1.4801e-02, 7.2607e-03, 5.9797e-02, 5.0437e-05, 2.4524e-03,\n",
       "         8.7220e-06, 6.6932e-03, 8.3556e-03, 1.4910e-04],\n",
       "        [6.2002e-01, 3.7474e-01, 5.2334e-04, 2.9364e-03, 1.1297e-03, 5.8717e-05,\n",
       "         1.0414e-05, 1.7066e-05, 2.3252e-04, 3.2920e-04],\n",
       "        [8.3772e-01, 4.1029e-02, 1.6870e-04, 1.0463e-01, 2.1851e-03, 8.6542e-03,\n",
       "         1.4161e-04, 4.2182e-04, 2.0276e-03, 3.0205e-03],\n",
       "        [1.6073e-02, 5.9784e-01, 3.6434e-01, 1.2385e-02, 1.1161e-04, 1.7163e-03,\n",
       "         1.2109e-05, 6.5098e-05, 3.9280e-03, 3.5297e-03],\n",
       "        [2.6108e-01, 6.9634e-01, 2.3334e-02, 3.4346e-03, 1.0446e-03, 4.1833e-03,\n",
       "         1.4817e-05, 8.7162e-03, 1.6325e-03, 2.1510e-04],\n",
       "        [1.9527e-01, 7.8920e-01, 9.2121e-03, 1.4738e-03, 1.0729e-03, 3.2465e-05,\n",
       "         4.5569e-07, 3.4033e-03, 2.5517e-05, 3.0834e-04],\n",
       "        [9.3969e-01, 6.8670e-04, 2.9368e-02, 8.9107e-03, 1.0640e-04, 3.9312e-03,\n",
       "         3.6311e-05, 6.0918e-04, 1.6460e-02, 2.0251e-04],\n",
       "        [5.1472e-01, 2.2245e-01, 2.1579e-01, 1.8642e-02, 3.0290e-04, 2.5452e-02,\n",
       "         1.2674e-07, 9.5780e-04, 1.6812e-03, 6.0959e-06],\n",
       "        [6.3710e-03, 5.6793e-01, 1.8647e-01, 1.5316e-01, 2.4464e-02, 2.9308e-02,\n",
       "         3.0118e-05, 6.3178e-06, 6.0691e-03, 2.6190e-02],\n",
       "        [8.3681e-01, 1.5193e-01, 5.5928e-04, 7.2157e-03, 1.2402e-03, 3.5531e-04,\n",
       "         2.5100e-06, 1.0196e-03, 8.8791e-05, 7.7883e-04],\n",
       "        [3.1993e-01, 6.0267e-01, 8.7614e-05, 7.1469e-02, 1.7005e-04, 4.6948e-03,\n",
       "         6.2005e-06, 4.7526e-04, 2.6460e-04, 2.3186e-04],\n",
       "        [1.3798e-01, 8.4928e-01, 2.1796e-03, 4.4654e-03, 6.8257e-05, 1.0480e-03,\n",
       "         6.7516e-06, 5.9620e-04, 8.3075e-04, 3.5411e-03],\n",
       "        [5.4199e-01, 1.8051e-01, 1.6640e-03, 2.6760e-01, 6.6408e-03, 6.1406e-05,\n",
       "         5.5723e-06, 5.5624e-05, 6.9276e-04, 7.7933e-04],\n",
       "        [7.2478e-01, 7.5089e-03, 6.5652e-02, 1.8251e-01, 5.2839e-05, 2.4028e-03,\n",
       "         4.8239e-05, 2.0167e-03, 1.4941e-02, 8.6270e-05],\n",
       "        [6.8222e-01, 4.0088e-02, 5.2161e-04, 2.5321e-01, 1.3471e-03, 1.1130e-02,\n",
       "         2.7955e-04, 3.8195e-04, 1.0686e-02, 1.3994e-04],\n",
       "        [1.4406e-02, 9.5614e-01, 2.8227e-04, 2.7118e-02, 5.2172e-04, 3.0296e-04,\n",
       "         3.3306e-05, 6.3699e-04, 2.9382e-04, 2.6409e-04],\n",
       "        [6.0878e-01, 3.6382e-01, 4.8436e-03, 3.0899e-03, 9.2064e-04, 8.9208e-04,\n",
       "         3.0934e-04, 2.1728e-03, 7.6586e-03, 7.5145e-03],\n",
       "        [5.6040e-01, 3.0436e-01, 1.4689e-02, 9.2105e-02, 1.2011e-03, 2.4623e-02,\n",
       "         1.2905e-05, 6.0689e-04, 7.8789e-04, 1.2140e-03],\n",
       "        [6.8282e-01, 1.8538e-01, 2.3172e-03, 9.7782e-02, 2.7628e-03, 4.0170e-03,\n",
       "         5.3378e-05, 1.7997e-03, 5.2222e-03, 1.7840e-02],\n",
       "        [5.0811e-01, 2.7065e-01, 3.5471e-03, 8.1615e-02, 8.0110e-02, 2.9781e-03,\n",
       "         1.6455e-05, 9.2245e-05, 4.5950e-04, 5.2416e-02]])"
      ]
     },
     "execution_count": 10,
     "metadata": {},
     "output_type": "execute_result"
    }
   ],
   "source": [
    "model(x,torch.rand(784,10))"
   ]
  },
  {
   "cell_type": "code",
   "execution_count": 11,
   "metadata": {},
   "outputs": [],
   "source": [
    "def spawn_population(param_size=(784,10),pop_size=1000):\n",
    "    return [Individual(torch.randn(*param_size)) for i in range(pop_size)]"
   ]
  },
  {
   "cell_type": "code",
   "execution_count": 12,
   "metadata": {},
   "outputs": [],
   "source": [
    "loss_fn = torch.nn.CrossEntropyLoss()"
   ]
  },
  {
   "cell_type": "code",
   "execution_count": 13,
   "metadata": {},
   "outputs": [
    {
     "data": {
      "text/plain": [
       "8"
      ]
     },
     "execution_count": 13,
     "metadata": {},
     "output_type": "execute_result"
    }
   ],
   "source": [
    "random.randint(0,10)"
   ]
  },
  {
   "cell_type": "code",
   "execution_count": 14,
   "metadata": {},
   "outputs": [],
   "source": [
    "def evaluate_population(pop):\n",
    "    avg_fit = 0 #avg population fitness\n",
    "    for individual in pop:\n",
    "        x,y = next(iter(train_loader))\n",
    "        pred = model(x.reshape(batch_size,784),individual.param)\n",
    "        loss = loss_fn(pred,y)\n",
    "        fit = loss\n",
    "        individual.fitness = 1.0 / fit\n",
    "        avg_fit += fit\n",
    "    avg_fit = avg_fit / len(pop)\n",
    "    return pop, avg_fit"
   ]
  },
  {
   "cell_type": "code",
   "execution_count": 15,
   "metadata": {},
   "outputs": [],
   "source": [
    "def recombine(x1,x2): #x1,x2 : Individual\n",
    "    w1 = x1.param.view(-1) #flatten\n",
    "    w2 = x2.param.view(-1)\n",
    "    cross_pt = random.randint(0,w1.shape[0])\n",
    "    child1 = torch.zeros(w1.shape)\n",
    "    child2 = torch.zeros(w1.shape)\n",
    "    child1[0:cross_pt] = w1[0:cross_pt]\n",
    "    child1[cross_pt:] = w2[cross_pt:]\n",
    "    child2[0:cross_pt] = w2[0:cross_pt]\n",
    "    child2[cross_pt:] = w1[cross_pt:]\n",
    "    child1 = child1.reshape(784,10)\n",
    "    child2 = child2.reshape(784,10)\n",
    "    c1 = Individual(child1)\n",
    "    c2 = Individual(child2)\n",
    "    return [c1,c2]"
   ]
  },
  {
   "cell_type": "code",
   "execution_count": 16,
   "metadata": {},
   "outputs": [],
   "source": [
    "def mutate(pop, mut_rate=0.01):\n",
    "    param_shape = pop[0].param.shape\n",
    "    l = torch.zeros(*param_shape)\n",
    "    l[:] = mut_rate\n",
    "    m = Bernoulli(l)\n",
    "    for individual in pop:\n",
    "        mut_vector = m.sample() * torch.randn(*param_shape)\n",
    "        individual.param = mut_vector + individual.param\n",
    "    return pop"
   ]
  },
  {
   "cell_type": "code",
   "execution_count": 17,
   "metadata": {},
   "outputs": [],
   "source": [
    "def seed_next_population(pop,pop_size=1000, mut_rate=0.01):\n",
    "    new_pop = []\n",
    "    while len(new_pop) < pop_size: #until new pop is full\n",
    "        parents = random.choices(pop,k=2, weights=[x.fitness for x in pop])\n",
    "        offspring = recombine(parents[0],parents[1])\n",
    "        new_pop.extend(offspring)\n",
    "    new_pop = mutate(new_pop,mut_rate)\n",
    "    return new_pop"
   ]
  },
  {
   "cell_type": "code",
   "execution_count": 18,
   "metadata": {},
   "outputs": [],
   "source": [
    "pop = spawn_population()"
   ]
  },
  {
   "cell_type": "code",
   "execution_count": 19,
   "metadata": {},
   "outputs": [
    {
     "name": "stdout",
     "output_type": "stream",
     "text": [
      "CPU times: user 55.6 s, sys: 46.2 ms, total: 55.6 s\n",
      "Wall time: 20.2 s\n"
     ]
    }
   ],
   "source": [
    "%%time\n",
    "pop, avg_fit = evaluate_population(pop)"
   ]
  },
  {
   "cell_type": "code",
   "execution_count": 20,
   "metadata": {},
   "outputs": [],
   "source": [
    "new_pop = seed_next_population(pop)"
   ]
  },
  {
   "cell_type": "code",
   "execution_count": 21,
   "metadata": {},
   "outputs": [
    {
     "data": {
      "text/plain": [
       "1000"
      ]
     },
     "execution_count": 21,
     "metadata": {},
     "output_type": "execute_result"
    }
   ],
   "source": [
    "len(new_pop)"
   ]
  },
  {
   "cell_type": "markdown",
   "metadata": {},
   "source": [
    "Now we need to spawn a population of weight matrices, run the model using the different individuals, calculate the loss for each one, and then breed the ones with the highest fitness score (lowest loss)."
   ]
  },
  {
   "cell_type": "code",
   "execution_count": 22,
   "metadata": {},
   "outputs": [],
   "source": [
    "num_generations = 50\n",
    "population_size = 100\n",
    "mutation_rate = 0.001 # 1% mutation rate per generation"
   ]
  },
  {
   "cell_type": "markdown",
   "metadata": {},
   "source": [
    "### Main Evolution (Training) Loop"
   ]
  },
  {
   "cell_type": "code",
   "execution_count": 23,
   "metadata": {},
   "outputs": [],
   "source": [
    "pop_fit = []\n",
    "pop = spawn_population(pop_size=population_size) #initial population\n",
    "for gen in range(num_generations):\n",
    "    # trainning\n",
    "    pop, avg_fit = evaluate_population(pop)\n",
    "    pop_fit.append(avg_fit) #record population average fitness\n",
    "    new_pop = seed_next_population(pop, pop_size=population_size, mut_rate=mutation_rate)\n",
    "    pop = new_pop"
   ]
  },
  {
   "cell_type": "code",
   "execution_count": 24,
   "metadata": {},
   "outputs": [
    {
     "data": {
      "text/plain": [
       "[<matplotlib.lines.Line2D at 0x7f7df434efe0>]"
      ]
     },
     "execution_count": 24,
     "metadata": {},
     "output_type": "execute_result"
    },
    {
     "data": {
      "image/png": "[encoded data removed]",
      "text/plain": [
       "<Figure size 640x480 with 1 Axes>"
      ]
     },
     "metadata": {},
     "output_type": "display_data"
    }
   ],
   "source": [
    "plt.plot(pop_fit)"
   ]
  },
  {
   "cell_type": "code",
   "execution_count": 25,
   "metadata": {},
   "outputs": [
    {
     "name": "stdout",
     "output_type": "stream",
     "text": [
      "tensor(2.3625)\n"
     ]
    }
   ],
   "source": [
    "avg_loss = 0\n",
    "for i in range(len(pop)):\n",
    "    x,y = next(iter(train_loader))\n",
    "    pred = model(x.reshape(batch_size,784),pop[i].param)\n",
    "    loss = loss_fn(pred,y)\n",
    "    avg_loss += loss\n",
    "avg_loss /= len(pop)\n",
    "print(avg_loss)"
   ]
  },
  {
   "cell_type": "markdown",
   "metadata": {},
   "source": [
    "Avg Loss new pop: 2.3336\n",
    "Avg Loss after 10 gens: 2.3435"
   ]
  },
  {
   "cell_type": "markdown",
   "metadata": {},
   "source": [
    "## Train with gradient-descent (comparison)"
   ]
  },
  {
   "cell_type": "code",
   "execution_count": 26,
   "metadata": {},
   "outputs": [],
   "source": [
    "p = torch.randn(784,10, requires_grad=True)\n",
    "optim = torch.optim.Adam(lr=0.1, params=[p])"
   ]
  },
  {
   "cell_type": "code",
   "execution_count": null,
   "metadata": {},
   "outputs": [
    {
     "name": "stdout",
     "output_type": "stream",
     "text": [
      "tensor(2.2609, grad_fn=<NllLossBackward0>)\n",
      "tensor(2.2409, grad_fn=<NllLossBackward0>)\n",
      "tensor(2.1612, grad_fn=<NllLossBackward0>)\n",
      "tensor(2.1011, grad_fn=<NllLossBackward0>)\n",
      "tensor(2.2305, grad_fn=<NllLossBackward0>)\n",
      "tensor(2.1408, grad_fn=<NllLossBackward0>)\n",
      "tensor(2.2312, grad_fn=<NllLossBackward0>)\n",
      "tensor(2.1411, grad_fn=<NllLossBackward0>)\n",
      "tensor(2.1711, grad_fn=<NllLossBackward0>)\n",
      "tensor(2.1588, grad_fn=<NllLossBackward0>)\n",
      "tensor(2.2111, grad_fn=<NllLossBackward0>)\n",
      "tensor(2.1912, grad_fn=<NllLossBackward0>)\n",
      "tensor(2.1711, grad_fn=<NllLossBackward0>)\n",
      "tensor(2.2008, grad_fn=<NllLossBackward0>)\n",
      "tensor(2.2110, grad_fn=<NllLossBackward0>)\n",
      "tensor(2.2610, grad_fn=<NllLossBackward0>)\n",
      "tensor(2.1912, grad_fn=<NllLossBackward0>)\n",
      "tensor(2.1311, grad_fn=<NllLossBackward0>)\n",
      "tensor(2.1512, grad_fn=<NllLossBackward0>)\n",
      "tensor(2.2211, grad_fn=<NllLossBackward0>)\n",
      "tensor(2.1811, grad_fn=<NllLossBackward0>)\n",
      "tensor(2.1412, grad_fn=<NllLossBackward0>)\n",
      "tensor(2.1912, grad_fn=<NllLossBackward0>)\n",
      "tensor(2.2710, grad_fn=<NllLossBackward0>)\n",
      "tensor(2.1910, grad_fn=<NllLossBackward0>)\n",
      "tensor(2.1511, grad_fn=<NllLossBackward0>)\n",
      "tensor(2.0911, grad_fn=<NllLossBackward0>)\n",
      "tensor(2.2011, grad_fn=<NllLossBackward0>)\n",
      "tensor(2.0711, grad_fn=<NllLossBackward0>)\n",
      "tensor(2.1211, grad_fn=<NllLossBackward0>)\n",
      "tensor(2.2012, grad_fn=<NllLossBackward0>)\n",
      "tensor(2.1908, grad_fn=<NllLossBackward0>)\n",
      "tensor(2.2911, grad_fn=<NllLossBackward0>)\n",
      "tensor(2.1811, grad_fn=<NllLossBackward0>)\n",
      "tensor(2.1712, grad_fn=<NllLossBackward0>)\n",
      "tensor(2.1612, grad_fn=<NllLossBackward0>)\n",
      "tensor(2.1512, grad_fn=<NllLossBackward0>)\n",
      "tensor(2.1711, grad_fn=<NllLossBackward0>)\n",
      "tensor(2.1512, grad_fn=<NllLossBackward0>)\n",
      "tensor(2.1609, grad_fn=<NllLossBackward0>)\n",
      "tensor(2.2111, grad_fn=<NllLossBackward0>)\n",
      "tensor(2.1209, grad_fn=<NllLossBackward0>)\n",
      "tensor(2.2312, grad_fn=<NllLossBackward0>)\n",
      "tensor(2.1111, grad_fn=<NllLossBackward0>)\n",
      "tensor(2.1411, grad_fn=<NllLossBackward0>)\n"
     ]
    }
   ],
   "source": [
    "loss_list = []\n",
    "for i in range(50):\n",
    "    for x,y in train_loader:\n",
    "        optim.zero_grad()\n",
    "        pred = model(x.reshape(batch_size,784),p)\n",
    "        loss = loss_fn(pred,y)\n",
    "        loss_list.append(loss)\n",
    "        loss.backward()\n",
    "        optim.step()\n",
    "    print(loss)\n",
    "plt.plot(loss_list)"
   ]
  },
  {
   "cell_type": "code",
   "execution_count": null,
   "metadata": {},
   "outputs": [],
   "source": []
  }
 ],
 "metadata": {
  "kernelspec": {
   "display_name": "Python 3 (ipykernel)",
   "language": "python",
   "name": "python3"
  },
  "language_info": {
   "codemirror_mode": {
    "name": "ipython",
    "version": 3
   },
   "file_extension": ".py",
   "mimetype": "text/x-python",
   "name": "python",
   "nbconvert_exporter": "python",
   "pygments_lexer": "ipython3",
   "version": "3.10.12"
  }
 },
 "nbformat": 4,
 "nbformat_minor": 4
}
